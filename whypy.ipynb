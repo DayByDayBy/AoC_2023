{
  "nbformat": 4,
  "nbformat_minor": 0,
  "metadata": {
    "colab": {
      "provenance": [],
      "authorship_tag": "ABX9TyNi31OAmrMuqp5StYMZ4MXM",
      "include_colab_link": true
    },
    "kernelspec": {
      "name": "python3",
      "display_name": "Python 3"
    },
    "language_info": {
      "name": "python"
    }
  },
  "cells": [
    {
      "cell_type": "markdown",
      "metadata": {
        "id": "view-in-github",
        "colab_type": "text"
      },
      "source": [
        "<a href=\"https://colab.research.google.com/github/DayByDayBy/AoC_2023/blob/main/whypy.ipynb\" target=\"_parent\"><img src=\"https://colab.research.google.com/assets/colab-badge.svg\" alt=\"Open In Colab\"/></a>"
      ]
    },
    {
      "cell_type": "code",
      "source": [
        "#@title pip installing ST\n",
        "\n",
        "\n",
        "!pip install sentence_transformers"
      ],
      "metadata": {
        "cellView": "form",
        "id": "I_obChQiycJq"
      },
      "execution_count": null,
      "outputs": []
    },
    {
      "cell_type": "code",
      "execution_count": 7,
      "metadata": {
        "cellView": "form",
        "id": "uhIiEoBxujZ0"
      },
      "outputs": [],
      "source": [
        "#@title imports\n",
        "\n",
        "import pandas as pd\n",
        "from sentence_transformers import SentenceTransformer\n"
      ]
    },
    {
      "cell_type": "code",
      "source": [
        "model = SentenceTransformer(\"all-MiniLM-L6-v2\")\n"
      ],
      "metadata": {
        "collapsed": true,
        "id": "PtzNQF6eyNHi"
      },
      "execution_count": null,
      "outputs": []
    },
    {
      "cell_type": "code",
      "source": [
        "#@title initialising some variables\n",
        "\n",
        "# pitch me\n",
        "pitchPrompt = \"pitch me a new idea for a movie\"\n",
        "latestResponse = ''\n",
        "newPitchPrompt = 'i just heard this movie pitch:' + latestResponse + \"can you do any better?\"\n",
        "\n",
        "# impress me\n",
        "impressPrompt = \"you have 30s to convince me you are the most intersting person i have met. Go!\"\n",
        "latestResponse = ''\n",
        "newImpressPrompt = 'i just met this person:' + latestResponse + \"prove to me you are more interesting\"\n",
        "\n",
        "# leaving it there for now, more Qs in notes\n",
        "\n",
        "iterationSetting = { '1x':1, '10x':10, '100x': 100, '1000x': 1000}  # not sure about this approach, but the previous way felt clumsier, and this works fine for testing with locked values\n",
        "iterationCount = 0\n",
        "responses = []\n",
        "\n",
        "\n"
      ],
      "metadata": {
        "id": "goGqOSM-yO7m"
      },
      "execution_count": 11,
      "outputs": []
    },
    {
      "cell_type": "code",
      "source": [],
      "metadata": {
        "colab": {
          "base_uri": "https://localhost:8080/"
        },
        "id": "cSC5zWIuyrru",
        "outputId": "4b420592-9160-469a-a519-62bc4fe29a45"
      },
      "execution_count": 15,
      "outputs": [
        {
          "output_type": "stream",
          "name": "stdout",
          "text": [
            "100\n"
          ]
        }
      ]
    }
  ]
}